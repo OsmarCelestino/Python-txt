{
 "cells": [
  {
   "cell_type": "markdown",
   "id": "f7904dcd-c71a-48ce-9714-d0b85c90a453",
   "metadata": {},
   "source": [
    "### Abrindo aquivo"
   ]
  },
  {
   "cell_type": "code",
   "execution_count": 48,
   "id": "08356e3c-bac9-4d63-b438-3e00b7a12e49",
   "metadata": {},
   "outputs": [],
   "source": [
    "arquivo = open('arquivos transparencia.txt','r')\n",
    "linhas = arquivo.readlines()\n",
    "templates = []\n",
    "exports = []\n",
    "resultados = []\n",
    "for arquivo_nome in linhas:\n",
    "    arquivo_inverso = arquivo_nome[::-1]\n",
    "    if arquivo_nome[0:8] == 'template':\n",
    "        templates.append(arquivo_nome)   \n",
    "    elif arquivo_inverso[5:11] == 'tropxE':\n",
    "        export.append(arquivo_nome)\n",
    "    else:\n",
    "        resultado.append(arquivo_nome)\n",
    "arquivo.close()\n",
    "with open('transparencia.txt','w') as arquivo_indicadores:\n",
    "    arquivo_indicadores.write('Templates\\n\\n')\n",
    "    for template in templates:\n",
    "        arquivo_indicadores.write('{}'.format(template))\n",
    "    arquivo_indicadores.write('Arquivos Export\\n\\n')    \n",
    "    for export in exports:\n",
    "        arquivo_indicadores.write('{}'.format(export))\n",
    "    arquivo_indicadores.write('Arquivos PHh\\n\\n')\n",
    "    for resultado in resultados:\n",
    "        arquivo_indicadores.write('{}'.format(resultado))\n"
   ]
  },
  {
   "cell_type": "code",
   "execution_count": null,
   "id": "b0630f2f-e33d-47b3-a869-d8df0d46831e",
   "metadata": {},
   "outputs": [],
   "source": []
  }
 ],
 "metadata": {
  "kernelspec": {
   "display_name": "Python 3 (ipykernel)",
   "language": "python",
   "name": "python3"
  },
  "language_info": {
   "codemirror_mode": {
    "name": "ipython",
    "version": 3
   },
   "file_extension": ".py",
   "mimetype": "text/x-python",
   "name": "python",
   "nbconvert_exporter": "python",
   "pygments_lexer": "ipython3",
   "version": "3.9.7"
  }
 },
 "nbformat": 4,
 "nbformat_minor": 5
}
